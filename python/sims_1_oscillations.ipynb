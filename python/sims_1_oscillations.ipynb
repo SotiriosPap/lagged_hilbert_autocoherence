{
 "cells": [
  {
   "cell_type": "code",
   "execution_count": 1,
   "id": "9ba7689b",
   "metadata": {},
   "outputs": [],
   "source": [
    "import numpy as np\n",
    "from scipy.optimize import curve_fit\n",
    "import matplotlib.pyplot as plt\n",
    "from lagged_coherence import *\n",
    "import colorednoise as cn\n",
    "import scipy"
   ]
  },
  {
   "cell_type": "code",
   "execution_count": 2,
   "id": "d4214909",
   "metadata": {},
   "outputs": [],
   "source": [
    "def compute_rms(time_series):\n",
    "    return np.sqrt(np.mean(np.square(time_series)))\n",
    "\n",
    "def scale_noise(signal_without_noise, noise, desired_snr_db):\n",
    "    # Compute power of the original signal\n",
    "    Ps = compute_rms(signal_without_noise)**2\n",
    "    \n",
    "    # Convert desired SNR from dB to linear scale\n",
    "    snr_linear = 10**(desired_snr_db / 10)\n",
    "    \n",
    "    # Calculate the desired noise power based on the desired SNR\n",
    "    desired_noise_power = Ps / snr_linear\n",
    "    \n",
    "    # Compute scaling factor for the noise\n",
    "    alpha = np.sqrt(desired_noise_power / compute_rms(noise)**2)\n",
    "    \n",
    "    return alpha * noise\n",
    "\n",
    "def gen_signal(T, trials, srate, fs, snr_db):\n",
    "    time=np.linspace(0,T,T*srate)\n",
    "    \n",
    "    w = 2. * np.pi * f\n",
    "    signal=np.zeros((trials,len(time)))\n",
    "    for i in range(trials):\n",
    "        pure_signal = np.sin(w * (time + np.random.randn()))\n",
    "        noise = cn.powerlaw_psd_gaussian(1, len(time))\n",
    "        scaled_noise = scale_noise(pure_signal, noise, snr_db)        \n",
    "        \n",
    "        signal[i,:]=pure_signal+scaled_noise\n",
    "        \n",
    "    return signal"
   ]
  },
  {
   "cell_type": "code",
   "execution_count": 3,
   "id": "cccf6b4b",
   "metadata": {
    "scrolled": true
   },
   "outputs": [
    {
     "name": "stdout",
     "output_type": "stream",
     "text": [
      "10Hz\n",
      "15Hz\n",
      "20Hz\n",
      "25Hz\n",
      "30Hz\n",
      "35Hz\n",
      "40Hz\n",
      "45Hz\n",
      "50Hz\n"
     ]
    }
   ],
   "source": [
    "T=5\n",
    "trials=100\n",
    "srate=1000\n",
    "snr=0\n",
    "\n",
    "lags=np.arange(1,6.5,.5)\n",
    "osc_f=np.arange(10,55,5)\n",
    "\n",
    "f_min=5\n",
    "f_max=100\n",
    "n_freqs=((f_max-f_min)*2)+1\n",
    "lcs_classic=np.zeros((len(osc_f), trials, n_freqs, len(lags)))\n",
    "lcs_hilbert=np.zeros((len(osc_f), trials, n_freqs, len(lags)))\n",
    "psds=np.zeros((len(osc_f), trials, n_freqs))\n",
    "\n",
    "for f_idx, f in enumerate(osc_f):\n",
    "    print('{}Hz'.format(f))\n",
    "    signal=gen_signal(T, trials, srate, f, snr)\n",
    "\n",
    "    freqs, psd = scipy.signal.welch(signal, fs=srate, window='hann',\n",
    "                                    nperseg=srate, noverlap=int(srate / 2), nfft=srate * 2, detrend='constant',\n",
    "                                    return_onesided=True, scaling='density', axis=- 1, average='mean')\n",
    "    idx=(freqs>=f_min) & (freqs<=f_max)\n",
    "    freqs=freqs[idx]\n",
    "    psd=psd[:,idx]\n",
    "    psds[f_idx,:,:]=psd\n",
    "\n",
    "    lcs_classic[f_idx,:,:,:]=lagged_coherence(signal, freqs, lags, srate)\n",
    "    \n",
    "    lcs_hilbert[f_idx,:,:,:]=lagged_hilbert_coherence(signal, freqs, lags, srate, n_jobs=20)\n",
    "    np.savez('../output/sims/oscillation/sim_results', \n",
    "             freqs=freqs,\n",
    "             lcs_classic=lcs_classic,\n",
    "             lcs_hilbert=lcs_hilbert,\n",
    "             psds=psds)\n"
   ]
  },
  {
   "cell_type": "code",
   "execution_count": null,
   "id": "2b3cc9b7",
   "metadata": {},
   "outputs": [],
   "source": []
  }
 ],
 "metadata": {
  "kernelspec": {
   "display_name": "new_lc",
   "language": "python",
   "name": "new_lc"
  },
  "language_info": {
   "codemirror_mode": {
    "name": "ipython",
    "version": 3
   },
   "file_extension": ".py",
   "mimetype": "text/x-python",
   "name": "python",
   "nbconvert_exporter": "python",
   "pygments_lexer": "ipython3",
   "version": "3.10.6"
  }
 },
 "nbformat": 4,
 "nbformat_minor": 5
}
